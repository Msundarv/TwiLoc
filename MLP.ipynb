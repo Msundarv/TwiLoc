{
 "cells": [
  {
   "cell_type": "code",
   "execution_count": 0,
   "metadata": {
    "colab": {},
    "colab_type": "code",
    "id": "YOnGmAePvBGK"
   },
   "outputs": [],
   "source": [
    "# Import libs\n",
    "\n",
    "import pandas as pd\n",
    "import re\n",
    "import numpy as np\n",
    "from nltk.tokenize import WordPunctTokenizer, TweetTokenizer\n",
    "from sklearn.feature_extraction.text import TfidfVectorizer"
   ]
  },
  {
   "cell_type": "code",
   "execution_count": 0,
   "metadata": {
    "colab": {
     "base_uri": "https://localhost:8080/",
     "height": 104
    },
    "colab_type": "code",
    "id": "RSED6JRO7BEH",
    "outputId": "e8a05040-3815-408b-c8b4-e981ff38640b"
   },
   "outputs": [
    {
     "name": "stdout",
     "output_type": "stream",
     "text": [
      "Train shape: (218147, 2)\n",
      "Dev shape: (74079, 2)\n",
      "Test shape: (74382, 3)\n",
      "Tweet Test shape: (74382, 2)\n",
      "User Test shape: (1858, 2)\n"
     ]
    }
   ],
   "source": [
    "# Load Training, Dev and Test Data\n",
    "\n",
    "def loadData(filepath):\n",
    "  data = pd.read_csv(filepath)\n",
    "  # Currently working on region level predictor\n",
    "  data.drop(['lat','long','state'],axis=1,inplace=True)\n",
    "  # Filter and remove anomaly data\n",
    "  data = data[data.region != 'MX']  # Remove 'Mexico' records - Due to Reverse geocoding\n",
    "  data = data[data.region != 'CA']  # Remove 'Canada' records - Due to Reverse geocoding\n",
    "  data.dropna(inplace=True)\n",
    "  data.reset_index(drop=True,inplace=True)\n",
    "  return data\n",
    "\n",
    "# train file and dev file has columns tweet, lat, long, state, region\n",
    "# test file has columns uid (userid), tweet, lat, long, state, region\n",
    "train = loadData(\"Path to train .csv file\")\n",
    "dev = loadData(\"Path to dev .csv file\")\n",
    "test = loadData(\"Path to test .csv file\")\n",
    "tweet_test = test.drop('uid', axis=1)  # Tweet level test\n",
    "user_test = test.drop('tweet', axis=1).drop_duplicates()  # User level test\n",
    "\n",
    "# print(train.head(5))\n",
    "# print(train.iloc[0])\n",
    "# dev.region.unique()\n",
    "# train.info()\n",
    "print(\"Train shape: \"+ str(train.shape))\n",
    "print(\"Dev shape: \"+ str(dev.shape))\n",
    "print(\"Test shape: \"+ str(test.shape))\n",
    "print(\"Tweet Test shape: \"+ str(tweet_test.shape))\n",
    "print(\"User Test shape: \"+ str(user_test.shape))"
   ]
  },
  {
   "cell_type": "code",
   "execution_count": 0,
   "metadata": {
    "colab": {
     "base_uri": "https://localhost:8080/",
     "height": 69
    },
    "colab_type": "code",
    "id": "Ody5PVriu5Lt",
    "outputId": "8bd31bcc-0011-45a3-c691-87e3b8ec0e8f"
   },
   "outputs": [
    {
     "name": "stdout",
     "output_type": "stream",
     "text": [
      "Train shape: (218147, 2)\n",
      "Dev shape: (74079, 2)\n",
      "Test shape: (74382, 2)\n"
     ]
    }
   ],
   "source": [
    "# Data Preparation\n",
    "\n",
    "# Tweet cleaning\n",
    "tt = TweetTokenizer(strip_handles=True, reduce_len=True)\n",
    "pat1 = r'@[A-Za-z0-9_]+'  # To remove '@' mentions\n",
    "pat2 = r'https?://[^ ]+'  # To remove web links starting with http\n",
    "combined_pat = r'|'.join((pat1, pat2))\n",
    "www_pat = r'www.[^ ]+'  # To remove web links starting without http\n",
    "'''negations_dic = {\"isn't\":\"is not\", \"aren't\":\"are not\", \"wasn't\":\"was not\", \"weren't\":\"were not\",\n",
    "                \"haven't\":\"have not\",\"hasn't\":\"has not\",\"hadn't\":\"had not\",\"won't\":\"will not\",\n",
    "                \"wouldn't\":\"would not\", \"don't\":\"do not\", \"doesn't\":\"does not\",\"didn't\":\"did not\",\n",
    "                \"can't\":\"can not\",\"couldn't\":\"could not\",\"shouldn't\":\"should not\",\"mightn't\":\"might not\",\n",
    "                \"mustn't\":\"must not\"}\n",
    "neg_pattern = re.compile(r'\\b(' + '|'.join(negations_dic.keys()) + r')\\b')'''\n",
    "\n",
    "def tweet_cleaner(text):\n",
    "    stripped = re.sub(combined_pat, '', text)\n",
    "    stripped = re.sub(www_pat, '', stripped)\n",
    "    lower_case = stripped.lower()\n",
    "    # neg_handled = neg_pattern.sub(lambda x: negations_dic[x.group()], lower_case)\n",
    "    # letters_only = re.sub(\"[^a-zA-Z]\", \" \", neg_handled)\n",
    "    # During the letters_only process two lines above, it has created unnecessay white spaces,\n",
    "    # Will tokenize and join together to remove unneccessary white spaces\n",
    "    # words = [x for x  in wpt.tokenize(letters_only) if len(x) > 1]\n",
    "    words = [x for x  in tt.tokenize(lower_case) if len(x) > 1]\n",
    "    return (\" \".join(words)).strip()\n",
    "  \n",
    "# print(tweet_cleaner(\" www.msundarv.com don't First batting also dhik dhik, chasing also dhik dhik! Finger nails, toe nails, no bias! 😷 #Yellove #WhistlePodu #CSKvRR 🦁💛\"))\n",
    "\n",
    "train.tweet = train.tweet.apply(tweet_cleaner)\n",
    "# print(train.head(5))\n",
    "# print(train.iloc[0])\n",
    "dev.tweet = dev.tweet.apply(tweet_cleaner)\n",
    "tweet_test.tweet = tweet_test.tweet.apply(tweet_cleaner)\n",
    "\n",
    "print(\"Train shape: \"+ str(train.shape))\n",
    "print(\"Dev shape: \"+ str(dev.shape))\n",
    "print(\"Test shape: \"+ str(tweet_test.shape))"
   ]
  },
  {
   "cell_type": "code",
   "execution_count": 0,
   "metadata": {
    "colab": {
     "base_uri": "https://localhost:8080/",
     "height": 87
    },
    "colab_type": "code",
    "id": "rcFan4t81BB9",
    "outputId": "8cae5f38-539b-411e-92fc-6046d49d1ee3"
   },
   "outputs": [
    {
     "name": "stderr",
     "output_type": "stream",
     "text": [
      "Using TensorFlow backend.\n"
     ]
    },
    {
     "name": "stdout",
     "output_type": "stream",
     "text": [
      "X_Train Shape: (218147, 5000)\n",
      "X_Dev Shape: (74079, 5000)\n",
      "X_Test Shape: (74382, 5000)\n"
     ]
    }
   ],
   "source": [
    "# Vectorization\n",
    "\n",
    "from keras.utils import to_categorical\n",
    "\n",
    "tweet_vectorizer = TfidfVectorizer(max_features = 5000,ngram_range = (1,3),stop_words='english')\n",
    "\n",
    "X_train = tweet_vectorizer.fit_transform(train.tweet)\n",
    "X_dev = tweet_vectorizer.transform(dev.tweet)\n",
    "X_test = tweet_vectorizer.transform(tweet_test.tweet)\n",
    "\n",
    "print(\"X_Train Shape: \"+str(X_train.shape))\n",
    "print(\"X_Dev Shape: \"+str(X_dev.shape))\n",
    "print(\"X_Test Shape: \"+str(X_test.shape))\n",
    "\n",
    "y_train = to_categorical(train.region.replace({ 'midwest': 0, 'northeast': 1, 'south': 2, 'west' : 3 }), num_classes=None)\n",
    "y_dev = to_categorical(dev.region.replace({ 'midwest': 0, 'northeast': 1, 'south': 2, 'west' : 3 }), num_classes=None)\n",
    "y_test = to_categorical(tweet_test.region.replace({ 'midwest': 0, 'northeast': 1, 'south': 2, 'west' : 3 }), num_classes=None)"
   ]
  },
  {
   "cell_type": "code",
   "execution_count": 0,
   "metadata": {
    "colab": {},
    "colab_type": "code",
    "id": "BnGjMl-rDSZx"
   },
   "outputs": [],
   "source": [
    "# Define MLP\n",
    "\n",
    "from keras.models import Sequential\n",
    "from keras import layers\n",
    "\n",
    "input_dim = X_train.shape[1]  # Number of input features\n",
    "\n",
    "def create_model(no_of_units, noise, optim):\n",
    "  model = Sequential()\n",
    "  model.add(layers.Dense(no_of_units, input_shape=(input_dim,), activation='relu'))\n",
    "  model.add(layers.GaussianNoise(noise))\n",
    "  model.add(layers.Dense(int(no_of_units/2), activation='relu'))\n",
    "  model.add(layers.GaussianNoise(0.9*noise))\n",
    "  model.add(layers.Dense(int(no_of_units/4), activation='relu'))\n",
    "  model.add(layers.GaussianNoise(0.9*noise))\n",
    "  model.add(layers.Dense(4, activation='softmax'))\n",
    "  model.compile(loss='categorical_crossentropy', optimizer=optim, metrics=['accuracy'])\n",
    "  model.summary()\n",
    "  return model"
   ]
  },
  {
   "cell_type": "code",
   "execution_count": 0,
   "metadata": {
    "colab": {},
    "colab_type": "code",
    "id": "a53xxnPQt6o2"
   },
   "outputs": [],
   "source": [
    "# Hyperparameters Optimization\n",
    "\n",
    "from keras.wrappers.scikit_learn import KerasClassifier\n",
    "from sklearn.model_selection import RandomizedSearchCV\n",
    "\n",
    "param_grid = dict(no_of_units=[16, 32, 64], noise = [0.2, 0], optim = ['sgd', 'adam', 'rmsprop', 'adagrad', 'adadelta'])\n",
    "\n",
    "model = KerasClassifier(build_fn=create_model, epochs=20, batch_size=10000, verbose=0)\n",
    "grid = RandomizedSearchCV(estimator=model, param_distributions=param_grid, cv=3, verbose=1, n_iter=7, n_jobs = -1)\n",
    "grid_result = grid.fit(X_train, y_train)\n",
    "\n",
    "print(\"Best Grid Score:  {:.2f}\".format(grid_result.best_score_*100))\n",
    "print(\"Best Grid params: \"+ str(grid_result.best_params_))\n",
    "\n",
    "mlp_grid_accuracy = grid.score(X_test, y_test)\n",
    "print(\"MLP Grid Test Accuracy:  {:.2f}\".format(mlp_grid_accuracy*100))\n",
    "\n",
    "# Best params - no_of_units = [32, 16], noise = [0.2]"
   ]
  },
  {
   "cell_type": "code",
   "execution_count": 0,
   "metadata": {
    "colab": {},
    "colab_type": "code",
    "id": "NfbWUkFUIydM"
   },
   "outputs": [],
   "source": [
    "# Train and predict using MLP\n",
    "\n",
    "from keras.callbacks import ModelCheckpoint\n",
    "from keras.callbacks import EarlyStopping\n",
    "\n",
    "model = create_model(32, 0.2, 'adam')\n",
    "\n",
    "# Save the checkpoint\n",
    "ckptfilepath = \"Path to .hdf5 checkpopint file\"\n",
    "# Keep only a single checkpoint, the best over test accuracy.\n",
    "checkpoint = ModelCheckpoint(ckptfilepath,\n",
    "                            monitor='val_acc',\n",
    "                            verbose=1,\n",
    "                            save_best_only=True,\n",
    "                            mode='max')\n",
    "early_stopping_monitor = EarlyStopping(patience=10)\n",
    "\n",
    "history = model.fit(X_train, y_train, epochs=100, validation_data=(X_dev, y_dev), batch_size=10000, callbacks=[checkpoint, early_stopping_monitor])\n",
    "\n",
    "mlp_loss, mlp_accuracy = model.evaluate(X_test, y_test, verbose=False)\n",
    "print(\"MLP Test Accuracy:  {:.2f}\".format(mlp_accuracy*100))"
   ]
  },
  {
   "cell_type": "code",
   "execution_count": 0,
   "metadata": {
    "colab": {
     "base_uri": "https://localhost:8080/",
     "height": 337
    },
    "colab_type": "code",
    "id": "ZFucs_xNZD4j",
    "outputId": "8620650b-4e90-49f7-b650-3e965e2fbf30"
   },
   "outputs": [
    {
     "data": {
      "image/png": "[encoded data removed]",
      "text/plain": [
       "<Figure size 864x360 with 2 Axes>"
      ]
     },
     "metadata": {
      "tags": []
     },
     "output_type": "display_data"
    }
   ],
   "source": [
    "# Plot training loss values and metric values \n",
    "\n",
    "import matplotlib.pyplot as plt\n",
    "plt.style.use('ggplot')\n",
    "\n",
    "def plot_history(history):\n",
    "    acc = history.history['acc']\n",
    "    val_acc = history.history['val_acc']\n",
    "    loss = history.history['loss']\n",
    "    val_loss = history.history['val_loss']\n",
    "    x = range(1, len(acc) + 1)\n",
    "\n",
    "    plt.figure(figsize=(12, 5))\n",
    "    plt.subplot(1, 2, 1)\n",
    "    plt.plot(x, acc, 'b', label='Training acc')\n",
    "    plt.plot(x, val_acc, 'r', label='Validation acc')\n",
    "    plt.title('Training and validation accuracy')\n",
    "    plt.legend()\n",
    "    plt.subplot(1, 2, 2)\n",
    "    plt.plot(x, loss, 'b', label='Training loss')\n",
    "    plt.plot(x, val_loss, 'r', label='Validation loss')\n",
    "    plt.title('Training and validation loss')\n",
    "    plt.legend()\n",
    "    \n",
    "plot_history(history)"
   ]
  },
  {
   "cell_type": "code",
   "execution_count": 0,
   "metadata": {
    "colab": {
     "base_uri": "https://localhost:8080/",
     "height": 416
    },
    "colab_type": "code",
    "id": "WdDBUTRSuRxr",
    "outputId": "663823d8-096a-4d93-8edb-5512926c5625"
   },
   "outputs": [
    {
     "name": "stdout",
     "output_type": "stream",
     "text": [
      "_________________________________________________________________\n",
      "Layer (type)                 Output Shape              Param #   \n",
      "=================================================================\n",
      "dense_9 (Dense)              (None, 32)                160032    \n",
      "_________________________________________________________________\n",
      "gaussian_noise_7 (GaussianNo (None, 32)                0         \n",
      "_________________________________________________________________\n",
      "dense_10 (Dense)             (None, 16)                528       \n",
      "_________________________________________________________________\n",
      "gaussian_noise_8 (GaussianNo (None, 16)                0         \n",
      "_________________________________________________________________\n",
      "dense_11 (Dense)             (None, 8)                 136       \n",
      "_________________________________________________________________\n",
      "gaussian_noise_9 (GaussianNo (None, 8)                 0         \n",
      "_________________________________________________________________\n",
      "dense_12 (Dense)             (None, 4)                 36        \n",
      "=================================================================\n",
      "Total params: 160,732\n",
      "Trainable params: 160,732\n",
      "Non-trainable params: 0\n",
      "_________________________________________________________________\n",
      "MLP Best Tweet level Test Accuracy:  45.09\n",
      "MLP Final Accuracy:  50.59\n"
     ]
    }
   ],
   "source": [
    "# Evaluate best fit MLP\n",
    "\n",
    "from sklearn.metrics import accuracy_score\n",
    "\n",
    "bestmodelfilepath = \"Path to best model .hdf5 file\"\n",
    "\n",
    "model = create_model(32, 0.2, 'adam')\n",
    "model.load_weights(bestmodelfilepath)\n",
    "\n",
    "mlp_loss, mlp_accuracy = model.evaluate(X_test, y_test, verbose=False)\n",
    "print(\"MLP Best Tweet level Test Accuracy:  {:.2f}\".format(mlp_accuracy*100))\n",
    "\n",
    "\n",
    "# Predict tweet level regions using trained model\n",
    "y_pred = model.predict(X_test)\n",
    "y_pred = np.argmax(y_pred, axis=1)\n",
    "# print(y_pred.shape)\n",
    "\n",
    "# Predict user level region\n",
    "test['ypred'] = y_pred\n",
    "user_pred = test.drop(['tweet','region'],axis=1)\n",
    "pred = user_pred.groupby(['uid'])['ypred'].agg(lambda x:x.value_counts().index[0])\n",
    "# print(pred.head(10))\n",
    "\n",
    "# Compare with true values\n",
    "true = user_test.sort_values(by=['uid']).replace({ 'midwest': 0, 'northeast': 1, 'south': 2, 'west' : 3 })\n",
    "# print(true.head(10))\n",
    "\n",
    "final_acc = accuracy_score(true['region'], pred)\n",
    "print(\"MLP Final Accuracy:  {:.2f}\".format(final_acc*100))"
   ]
  },
  {
   "cell_type": "markdown",
   "metadata": {
    "colab_type": "text",
    "id": "VZlsM3Pc8-Fj"
   },
   "source": [
    "\n",
    "\n",
    "---\n",
    "\n"
   ]
  }
 ],
 "metadata": {
  "colab": {
   "collapsed_sections": [],
   "name": "MLP.ipynb",
   "provenance": [],
   "version": "0.3.2"
  },
  "kernelspec": {
   "display_name": "Python 3",
   "language": "python",
   "name": "python3"
  },
  "language_info": {
   "codemirror_mode": {
    "name": "ipython",
    "version": 3
   },
   "file_extension": ".py",
   "mimetype": "text/x-python",
   "name": "python",
   "nbconvert_exporter": "python",
   "pygments_lexer": "ipython3",
   "version": "3.6.5"
  }
 },
 "nbformat": 4,
 "nbformat_minor": 1
}
